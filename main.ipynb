{
 "cells": [
  {
   "cell_type": "markdown",
   "metadata": {},
   "source": [
    "# Guided Project: Predicting Listing Gains in the Indian IPO Market"
   ]
  },
  {
   "cell_type": "markdown",
   "metadata": {},
   "source": [
    "An investment firm is interested in investing in the Initial Public Offerings (IPO) in the Indian market. This project aims to determine if there will be listing gains for the IPO by building a deep learning classification model. Listing gains are defined as percentage price increase from issue price on listing day.\n",
    "\n",
    "Data is taken from moneycontrol and consists of information on Indian IPOs from 2010 to 2022.\n",
    "\n",
    "Data description:\n",
    "\n",
    "Date: date when the IPO was listed\n",
    "\n",
    "IPOName: name of the IPO\n",
    "\n",
    "Issue_Size: size of the IPO issue, in INR Crores\n",
    "\n",
    "Subscription_QIB: number of times the IPO was subscribed by the QIB (Qualified Institutional Buyer) investor category\n",
    "\n",
    "Subscription_HNI: number of times the IPO was subscribed by the HNI (High Networth Individual) investor category\n",
    "\n",
    "Subscription_RII: number of times the IPO was subscribed by the RII (Retail Individual Investors) investor category\n",
    "\n",
    "Subscription_Total: total number of times the IPO was subscribed overall\n",
    "\n",
    "Issue_Price: the price in INR at which the IPO was issued\n",
    "\n",
    "Listing_Gains_Percent: is the percentage gain in the listing price over the issue price\n",
    "\n",
    "\n"
   ]
  },
  {
   "cell_type": "markdown",
   "metadata": {},
   "source": [
    "## Data Exploration"
   ]
  },
  {
   "cell_type": "markdown",
   "metadata": {},
   "source": [
    "First step is to download all necessary libraries and to explore the data."
   ]
  },
  {
   "cell_type": "code",
   "execution_count": null,
   "metadata": {},
   "outputs": [],
   "source": [
    "import numpy as np \n",
    "import pandas as pd \n",
    "import seaborn as sns\n",
    "import matplotlib.pyplot as plt\n",
    "import tensorflow as tf\n",
    "\n",
    "from tensorflow import keras\n",
    "from tensorflow.keras import layers\n",
    "from sklearn.model_selection import train_test_split\n",
    "from sklearn.metrics import ConfusionMatrixDisplay\n",
    "from sklearn.metrics import confusion_matrix, accuracy_score, recall_score, precision_score"
   ]
  },
  {
   "cell_type": "code",
   "execution_count": 6,
   "metadata": {},
   "outputs": [],
   "source": [
    "ipos = pd.read_csv(\"Indian_IPO_Market_Data.csv\")"
   ]
  },
  {
   "cell_type": "code",
   "execution_count": 3,
   "metadata": {},
   "outputs": [
    {
     "name": "stdout",
     "output_type": "stream",
     "text": [
      "      Date           IPOName  Issue_Size  Subscription_QIB  Subscription_HNI  \\\n",
      "0  03/02/10    Infinite Comp      189.80             48.44            106.02   \n",
      "1  08/02/10    Jubilant Food      328.70             59.39             51.95   \n",
      "2  15/02/10    Syncom Health       56.25              0.99             16.60   \n",
      "3  15/02/10  Vascon Engineer      199.80              1.12              3.65   \n",
      "4  19/02/10      Thangamayil        0.00              0.52              1.52   \n",
      "\n",
      "   Subscription_RII  Subscription_Total  Issue_Price  Listing_Gains_Percent  \n",
      "0             11.08               43.22          165                  11.82  \n",
      "1              3.79               31.11          145                 -84.21  \n",
      "2              6.25                5.17           75                  17.13  \n",
      "3              0.62                1.22          165                 -11.28  \n",
      "4              2.26                1.12           75                  -5.20  \n"
     ]
    }
   ],
   "source": [
    "print(ipos.head())"
   ]
  },
  {
   "cell_type": "code",
   "execution_count": 4,
   "metadata": {},
   "outputs": [
    {
     "name": "stdout",
     "output_type": "stream",
     "text": [
      "(319, 9)\n"
     ]
    }
   ],
   "source": [
    "print(ipos.shape)"
   ]
  },
  {
   "cell_type": "code",
   "execution_count": 5,
   "metadata": {},
   "outputs": [
    {
     "name": "stdout",
     "output_type": "stream",
     "text": [
      "<class 'pandas.core.frame.DataFrame'>\n",
      "RangeIndex: 319 entries, 0 to 318\n",
      "Data columns (total 9 columns):\n",
      " #   Column                 Non-Null Count  Dtype  \n",
      "---  ------                 --------------  -----  \n",
      " 0   Date                   319 non-null    object \n",
      " 1   IPOName                319 non-null    object \n",
      " 2   Issue_Size             319 non-null    float64\n",
      " 3   Subscription_QIB       319 non-null    float64\n",
      " 4   Subscription_HNI       319 non-null    float64\n",
      " 5   Subscription_RII       319 non-null    float64\n",
      " 6   Subscription_Total     319 non-null    float64\n",
      " 7   Issue_Price            319 non-null    int64  \n",
      " 8   Listing_Gains_Percent  319 non-null    float64\n",
      "dtypes: float64(6), int64(1), object(2)\n",
      "memory usage: 22.6+ KB\n",
      "None\n"
     ]
    }
   ],
   "source": [
    "print(ipos.info())"
   ]
  },
  {
   "cell_type": "code",
   "execution_count": 6,
   "metadata": {},
   "outputs": [
    {
     "name": "stdout",
     "output_type": "stream",
     "text": [
      "count    319.000000\n",
      "mean       4.742696\n",
      "std       47.650946\n",
      "min      -97.150000\n",
      "25%      -11.555000\n",
      "50%        1.810000\n",
      "75%       25.310000\n",
      "max      270.400000\n",
      "Name: Listing_Gains_Percent, dtype: float64\n"
     ]
    }
   ],
   "source": [
    "print(ipos[\"Listing_Gains_Percent\"].describe())"
   ]
  },
  {
   "cell_type": "code",
   "execution_count": 7,
   "metadata": {},
   "outputs": [
    {
     "name": "stdout",
     "output_type": "stream",
     "text": [
      "           Date           IPOName    Issue_Size  Subscription_QIB  \\\n",
      "count        319              319    319.000000        319.000000   \n",
      "unique       287              319           NaN               NaN   \n",
      "top     16/08/21  Apollo Micro Sy           NaN               NaN   \n",
      "freq           4                1           NaN               NaN   \n",
      "mean         NaN              NaN   1192.859969         25.684138   \n",
      "std          NaN              NaN   2384.643786         40.716782   \n",
      "min          NaN              NaN      0.000000          0.000000   \n",
      "25%          NaN              NaN    169.005000          1.150000   \n",
      "50%          NaN              NaN    496.250000          4.940000   \n",
      "75%          NaN              NaN   1100.000000         34.635000   \n",
      "max          NaN              NaN  21000.000000        215.450000   \n",
      "\n",
      "        Subscription_HNI  Subscription_RII  Subscription_Total  Issue_Price  \\\n",
      "count         319.000000        319.000000          319.000000   319.000000   \n",
      "unique               NaN               NaN                 NaN          NaN   \n",
      "top                  NaN               NaN                 NaN          NaN   \n",
      "freq                 NaN               NaN                 NaN          NaN   \n",
      "mean           70.091379          8.561599           27.447147   375.128527   \n",
      "std           142.454416         14.508670           48.772203   353.897614   \n",
      "min             0.000000          0.000000            0.000000     0.000000   \n",
      "25%             1.255000          1.275000            1.645000   119.000000   \n",
      "50%             5.070000          3.420000            4.930000   250.000000   \n",
      "75%            62.095000          8.605000           33.395000   536.000000   \n",
      "max           958.070000        119.440000          326.490000  2150.000000   \n",
      "\n",
      "        Listing_Gains_Percent  \n",
      "count              319.000000  \n",
      "unique                    NaN  \n",
      "top                       NaN  \n",
      "freq                      NaN  \n",
      "mean                 4.742696  \n",
      "std                 47.650946  \n",
      "min                -97.150000  \n",
      "25%                -11.555000  \n",
      "50%                  1.810000  \n",
      "75%                 25.310000  \n",
      "max                270.400000  \n"
     ]
    }
   ],
   "source": [
    "print(ipos.describe(include= \"all\"))"
   ]
  },
  {
   "cell_type": "markdown",
   "metadata": {},
   "source": [
    "Creating a binary variable which is equal to 1 when there are listing gains and 0 othervise"
   ]
  },
  {
   "cell_type": "code",
   "execution_count": 7,
   "metadata": {},
   "outputs": [
    {
     "name": "stderr",
     "output_type": "stream",
     "text": [
      "<ipython-input-7-2bb67bcdd412>:2: SettingWithCopyWarning: \n",
      "A value is trying to be set on a copy of a slice from a DataFrame\n",
      "\n",
      "See the caveats in the documentation: https://pandas.pydata.org/pandas-docs/stable/user_guide/indexing.html#returning-a-view-versus-a-copy\n",
      "  ipos[\"Listing_Gains_Profit\"][ipos[\"Listing_Gains_Percent\"]>0] =1\n"
     ]
    }
   ],
   "source": [
    "ipos[\"Listing_Gains_Profit\"] = 0\n",
    "ipos[\"Listing_Gains_Profit\"][ipos[\"Listing_Gains_Percent\"]>0] =1"
   ]
  },
  {
   "cell_type": "markdown",
   "metadata": {},
   "source": [
    "Checking if there are any NA values in the dataset"
   ]
  },
  {
   "cell_type": "code",
   "execution_count": 9,
   "metadata": {},
   "outputs": [
    {
     "name": "stdout",
     "output_type": "stream",
     "text": [
      "Date                     0\n",
      "IPOName                  0\n",
      "Issue_Size               0\n",
      "Subscription_QIB         0\n",
      "Subscription_HNI         0\n",
      "Subscription_RII         0\n",
      "Subscription_Total       0\n",
      "Issue_Price              0\n",
      "Listing_Gains_Percent    0\n",
      "Listing_Gains_Profit     0\n",
      "dtype: int64\n"
     ]
    }
   ],
   "source": [
    "print(ipos.isnull().sum())"
   ]
  },
  {
   "cell_type": "markdown",
   "metadata": {},
   "source": [
    "## Data Visualisation"
   ]
  },
  {
   "cell_type": "markdown",
   "metadata": {},
   "source": [
    "The next step is to visualise the data to get a better understanding of the variables "
   ]
  },
  {
   "cell_type": "code",
   "execution_count": 8,
   "metadata": {},
   "outputs": [
    {
     "name": "stdout",
     "output_type": "stream",
     "text": [
      "1    174\n",
      "0    145\n",
      "Name: Listing_Gains_Profit, dtype: int64\n"
     ]
    }
   ],
   "source": [
    "print(ipos[\"Listing_Gains_Profit\"].value_counts())"
   ]
  },
  {
   "cell_type": "code",
   "execution_count": 9,
   "metadata": {},
   "outputs": [
    {
     "data": {
      "image/png": "[encoded data removed]",
      "text/plain": [
       "<Figure size 432x288 with 1 Axes>"
      ]
     },
     "metadata": {
      "needs_background": "light"
     },
     "output_type": "display_data"
    }
   ],
   "source": [
    "sns.countplot(data = ipos, x = \"Listing_Gains_Profit\", palette=\"pastel\")\n",
    "plt.title(\"IPOs listed at a profit\")\n",
    "plt.xlabel(\"Listing Gains\")\n",
    "new_labels = [\"No gains\", \"Gains\"]\n",
    "plt.xticks(ticks=plt.gca().get_xticks(), labels=new_labels)\n",
    "ax = plt.gca()\n",
    "ax.set_ylim(top=200)\n",
    "counts = ipos['Listing_Gains_Profit'].value_counts()\n",
    "total = len(ipos)\n",
    "for p in plt.gca().patches:\n",
    "    height = p.get_height()  # Height of the bar\n",
    "    percentage = f\"{height / total * 100:.1f}%\"  # Calculate percentage\n",
    "    plt.text(\n",
    "        p.get_x() + p.get_width() / 2,  # X-coordinate\n",
    "        height + 3,  # Y-coordinate slightly above the bar\n",
    "        f'{height} ({percentage})',  # Label with absolute and percentage\n",
    "        ha=\"center\",  # Center the text\n",
    "        va=\"bottom\"\n",
    "    )\n",
    "plt.show()"
   ]
  },
  {
   "cell_type": "markdown",
   "metadata": {},
   "source": [
    "From the graph above it can bee seen that there are slightly more IPOs that were listed at a profit than those that were not at a profit"
   ]
  },
  {
   "cell_type": "code",
   "execution_count": 10,
   "metadata": {},
   "outputs": [],
   "source": [
    "cont_var = [\"Issue_Size\", \"Subscription_QIB\", \"Subscription_HNI\", \"Subscription_RII\", \"Subscription_Total\", \"Issue_Price\"]"
   ]
  },
  {
   "cell_type": "code",
   "execution_count": 11,
   "metadata": {},
   "outputs": [
    {
     "data": {
      "image/png": "[encoded data removed]",
      "text/plain": [
       "<Figure size 720x720 with 6 Axes>"
      ]
     },
     "metadata": {
      "needs_background": "light"
     },
     "output_type": "display_data"
    }
   ],
   "source": [
    "fig, ax = plt.subplots(6, figsize=(10, 10))\n",
    "plt.subplots_adjust(hspace=0.5, wspace = 0.3)\n",
    "\n",
    "for i, var in enumerate(cont_var, start=1):\n",
    "    plt.subplot(3, 2, i)\n",
    "    sns.boxplot(data=ipos, y=var, x=\"Listing_Gains_Profit\", palette=\"pastel\")\n",
    "    plt.title(f'Outliers {var}')\n",
    "plt.show()"
   ]
  },
  {
   "cell_type": "markdown",
   "metadata": {},
   "source": [
    "There are some outliers present in continues variables. At the Data Preparation stage this issue will be adressed."
   ]
  },
  {
   "cell_type": "code",
   "execution_count": 12,
   "metadata": {},
   "outputs": [
    {
     "data": {
      "image/png": "[encoded data removed]",
      "text/plain": [
       "<Figure size 432x288 with 2 Axes>"
      ]
     },
     "metadata": {
      "needs_background": "light"
     },
     "output_type": "display_data"
    }
   ],
   "source": [
    "corr_w_target = ipos[[\"Issue_Size\", \"Subscription_QIB\", \"Subscription_HNI\", \"Subscription_RII\", \"Subscription_Total\", \"Issue_Price\", \"Listing_Gains_Profit\"]].corr()\n",
    "sns.heatmap(corr_w_target[[\"Listing_Gains_Profit\"]].sort_values(by=\"Listing_Gains_Profit\", ascending=False), annot=True, cmap=\"Blues\")\n",
    "plt.title(\"Correlations with target variable\")\n",
    "plt.show()"
   ]
  },
  {
   "cell_type": "markdown",
   "metadata": {},
   "source": [
    "Correlations between the target variable and explanatory variables are lower than 0.35 for all of the variables"
   ]
  },
  {
   "cell_type": "code",
   "execution_count": 13,
   "metadata": {},
   "outputs": [
    {
     "data": {
      "image/png": "[encoded data removed]",
      "text/plain": [
       "<Figure size 432x288 with 2 Axes>"
      ]
     },
     "metadata": {
      "needs_background": "light"
     },
     "output_type": "display_data"
    }
   ],
   "source": [
    "correlations = ipos[cont_var].corr()\n",
    "mask = np.triu(np.ones_like(correlations, dtype=bool))\n",
    "sns.heatmap(correlations, mask=mask, cmap = \"Oranges\", annot=True)\n",
    "plt.title(\"Correlations between variables\")\n",
    "plt.show()"
   ]
  },
  {
   "cell_type": "markdown",
   "metadata": {},
   "source": [
    "## Data preparation"
   ]
  },
  {
   "cell_type": "markdown",
   "metadata": {},
   "source": [
    "Removing irrelevant variables and dealing with outliers"
   ]
  },
  {
   "cell_type": "code",
   "execution_count": 14,
   "metadata": {},
   "outputs": [
    {
     "name": "stdout",
     "output_type": "stream",
     "text": [
      "           Date    IPOName    Issue_Size  Subscription_QIB  Subscription_HNI  \\\n",
      "count        319       319    319.000000        319.000000        319.000000   \n",
      "unique       287       319           NaN               NaN               NaN   \n",
      "top     16/08/21  Sona BLW           NaN               NaN               NaN   \n",
      "freq           4         1           NaN               NaN               NaN   \n",
      "mean         NaN       NaN   1192.859969         25.684138         70.091379   \n",
      "std          NaN       NaN   2384.643786         40.716782        142.454416   \n",
      "min          NaN       NaN      0.000000          0.000000          0.000000   \n",
      "25%          NaN       NaN    169.005000          1.150000          1.255000   \n",
      "50%          NaN       NaN    496.250000          4.940000          5.070000   \n",
      "75%          NaN       NaN   1100.000000         34.635000         62.095000   \n",
      "max          NaN       NaN  21000.000000        215.450000        958.070000   \n",
      "\n",
      "        Subscription_RII  Subscription_Total  Issue_Price  \\\n",
      "count         319.000000          319.000000   319.000000   \n",
      "unique               NaN                 NaN          NaN   \n",
      "top                  NaN                 NaN          NaN   \n",
      "freq                 NaN                 NaN          NaN   \n",
      "mean            8.561599           27.447147   375.128527   \n",
      "std            14.508670           48.772203   353.897614   \n",
      "min             0.000000            0.000000     0.000000   \n",
      "25%             1.275000            1.645000   119.000000   \n",
      "50%             3.420000            4.930000   250.000000   \n",
      "75%             8.605000           33.395000   536.000000   \n",
      "max           119.440000          326.490000  2150.000000   \n",
      "\n",
      "        Listing_Gains_Percent  Listing_Gains_Profit  \n",
      "count              319.000000            319.000000  \n",
      "unique                    NaN                   NaN  \n",
      "top                       NaN                   NaN  \n",
      "freq                      NaN                   NaN  \n",
      "mean                 4.742696              0.545455  \n",
      "std                 47.650946              0.498712  \n",
      "min                -97.150000              0.000000  \n",
      "25%                -11.555000              0.000000  \n",
      "50%                  1.810000              1.000000  \n",
      "75%                 25.310000              1.000000  \n",
      "max                270.400000              1.000000  \n"
     ]
    }
   ],
   "source": [
    "print(ipos.describe(include= \"all\"))"
   ]
  },
  {
   "cell_type": "code",
   "execution_count": 15,
   "metadata": {},
   "outputs": [],
   "source": [
    "ipos_modif = ipos.drop(columns=[\"IPOName\", \"Date \", \"Listing_Gains_Percent\"], axis=1)"
   ]
  },
  {
   "cell_type": "code",
   "execution_count": 16,
   "metadata": {},
   "outputs": [
    {
     "name": "stdout",
     "output_type": "stream",
     "text": [
      "         Issue_Size  Subscription_QIB  Subscription_HNI  Subscription_RII  \\\n",
      "count    319.000000        319.000000        319.000000        319.000000   \n",
      "mean    1192.859969         25.684138         70.091379          8.561599   \n",
      "std     2384.643786         40.716782        142.454416         14.508670   \n",
      "min        0.000000          0.000000          0.000000          0.000000   \n",
      "25%      169.005000          1.150000          1.255000          1.275000   \n",
      "50%      496.250000          4.940000          5.070000          3.420000   \n",
      "75%     1100.000000         34.635000         62.095000          8.605000   \n",
      "max    21000.000000        215.450000        958.070000        119.440000   \n",
      "\n",
      "       Subscription_Total  Issue_Price  Listing_Gains_Profit  \n",
      "count          319.000000   319.000000            319.000000  \n",
      "mean            27.447147   375.128527              0.545455  \n",
      "std             48.772203   353.897614              0.498712  \n",
      "min              0.000000     0.000000              0.000000  \n",
      "25%              1.645000   119.000000              0.000000  \n",
      "50%              4.930000   250.000000              1.000000  \n",
      "75%             33.395000   536.000000              1.000000  \n",
      "max            326.490000  2150.000000              1.000000  \n"
     ]
    }
   ],
   "source": [
    "print(ipos_modif.describe(include= \"all\"))"
   ]
  },
  {
   "cell_type": "code",
   "execution_count": 17,
   "metadata": {},
   "outputs": [
    {
     "name": "stdout",
     "output_type": "stream",
     "text": [
      "4.853401606434454\n",
      "2.143704625584823\n",
      "3.0784448213212667\n",
      "3.7082740836630137\n",
      "2.9119071381074786\n",
      "1.6968814842159945\n",
      "-0.18343787550316024\n"
     ]
    }
   ],
   "source": [
    "for i in ipos_modif.columns:\n",
    "    print(ipos_modif[i].skew())"
   ]
  },
  {
   "cell_type": "markdown",
   "metadata": {},
   "source": [
    "When the skewness value lies between -1 and +1, it means that there are no significant outliers. The above result shows that most of the variables have outliers. Outliers can be removed using IQR Value (interquartile range value)"
   ]
  },
  {
   "cell_type": "code",
   "execution_count": 18,
   "metadata": {},
   "outputs": [
    {
     "name": "stdout",
     "output_type": "stream",
     "text": [
      "Index(['Issue_Size', 'Subscription_QIB', 'Subscription_HNI',\n",
      "       'Subscription_RII', 'Subscription_Total', 'Issue_Price'],\n",
      "      dtype='object')\n"
     ]
    }
   ],
   "source": [
    "outliers = ipos_modif.columns.drop(\"Listing_Gains_Profit\")\n",
    "print(outliers)"
   ]
  },
  {
   "cell_type": "code",
   "execution_count": 19,
   "metadata": {},
   "outputs": [],
   "source": [
    "for i in outliers:\n",
    "    q1 = ipos_modif[i].quantile(q=0.25)\n",
    "    q3 = ipos_modif[i].quantile(q=0.75)  \n",
    "    iqr = q3 - q1   \n",
    "    lower = (q1 - 1.5 * iqr) \n",
    "    upper = (q3 + 1.5 * iqr)\n",
    "    ipos_modif[i] = np.where(ipos_modif[i]>upper, upper, ipos_modif[i])\n",
    "    ipos_modif[i] = np.where(ipos_modif[i]<lower, lower, ipos_modif[i])"
   ]
  },
  {
   "cell_type": "code",
   "execution_count": 20,
   "metadata": {},
   "outputs": [
    {
     "name": "stdout",
     "output_type": "stream",
     "text": [
      "1.2246204359225623\n",
      "1.262734274613526\n",
      "1.1816363175334872\n",
      "1.12917087322117\n",
      "1.2938804195699385\n",
      "1.0847224584503858\n",
      "-0.18343787550316024\n"
     ]
    }
   ],
   "source": [
    "for i in ipos_modif.columns:\n",
    "    print(ipos_modif[i].skew())"
   ]
  },
  {
   "cell_type": "markdown",
   "metadata": {},
   "source": [
    "Now all the skewness values are very close to 1, thus no more significant outliers"
   ]
  },
  {
   "cell_type": "code",
   "execution_count": 21,
   "metadata": {},
   "outputs": [],
   "source": [
    "target = [\"Listing_Gains_Profit\"] \n",
    "predictors = list(set(list(ipos_modif.columns)) - set(target))"
   ]
  },
  {
   "cell_type": "markdown",
   "metadata": {},
   "source": [
    "Normalising predictors."
   ]
  },
  {
   "cell_type": "code",
   "execution_count": 22,
   "metadata": {},
   "outputs": [],
   "source": [
    "ipos_modif[predictors] = ipos_modif[predictors] / ipos_modif[predictors].max()"
   ]
  },
  {
   "cell_type": "code",
   "execution_count": 23,
   "metadata": {},
   "outputs": [
    {
     "name": "stdout",
     "output_type": "stream",
     "text": [
      "       Issue_Size  Subscription_QIB  Subscription_HNI  Subscription_RII  \\\n",
      "count  319.000000        319.000000        319.000000        319.000000   \n",
      "mean     0.305854          0.253601          0.263157          0.309232   \n",
      "std      0.308308          0.342961          0.374477          0.315147   \n",
      "min      0.000000          0.000000          0.000000          0.000000   \n",
      "25%      0.067697          0.013551          0.008184          0.065051   \n",
      "50%      0.198779          0.058212          0.033061          0.174490   \n",
      "75%      0.440618          0.408131          0.404910          0.439031   \n",
      "max      1.000000          1.000000          1.000000          1.000000   \n",
      "\n",
      "       Subscription_Total  Issue_Price  Listing_Gains_Profit  \n",
      "count          319.000000   319.000000            319.000000  \n",
      "mean             0.252489     0.311793              0.545455  \n",
      "std              0.335939     0.268853              0.498712  \n",
      "min              0.000000     0.000000              0.000000  \n",
      "25%              0.020304     0.102454              0.000000  \n",
      "50%              0.060849     0.215239              1.000000  \n",
      "75%              0.412182     0.461472              1.000000  \n",
      "max              1.000000     1.000000              1.000000  \n"
     ]
    }
   ],
   "source": [
    "print(ipos_modif.describe(include= \"all\"))"
   ]
  },
  {
   "cell_type": "markdown",
   "metadata": {},
   "source": [
    "Seperating data into dependent and explanatory variables."
   ]
  },
  {
   "cell_type": "code",
   "execution_count": 24,
   "metadata": {},
   "outputs": [],
   "source": [
    "X = ipos_modif[predictors].values\n",
    "y = ipos_modif[target].values"
   ]
  },
  {
   "cell_type": "markdown",
   "metadata": {},
   "source": [
    "Splitting the data into test and train sets. Test set size is 20%."
   ]
  },
  {
   "cell_type": "code",
   "execution_count": 25,
   "metadata": {},
   "outputs": [],
   "source": [
    "X_train, X_test, y_train, y_test = train_test_split(X, y, test_size=0.20, random_state=135)"
   ]
  },
  {
   "cell_type": "markdown",
   "metadata": {},
   "source": [
    "Check that the data is divided properly and each subset has enough categorical variability for the target variable."
   ]
  },
  {
   "cell_type": "code",
   "execution_count": 26,
   "metadata": {},
   "outputs": [
    {
     "data": {
      "text/plain": [
       "{0: 113, 1: 142}"
      ]
     },
     "execution_count": 26,
     "metadata": {},
     "output_type": "execute_result"
    }
   ],
   "source": [
    "unique, counts = np.unique(y_train, return_counts=True)\n",
    "dict(zip(unique, counts))"
   ]
  },
  {
   "cell_type": "code",
   "execution_count": 27,
   "metadata": {},
   "outputs": [
    {
     "data": {
      "text/plain": [
       "{0: 32, 1: 32}"
      ]
     },
     "execution_count": 27,
     "metadata": {},
     "output_type": "execute_result"
    }
   ],
   "source": [
    "unique, counts = np.unique(y_test, return_counts=True)\n",
    "dict(zip(unique, counts))"
   ]
  },
  {
   "cell_type": "code",
   "execution_count": 28,
   "metadata": {},
   "outputs": [
    {
     "name": "stdout",
     "output_type": "stream",
     "text": [
      "(255, 6)\n",
      "(64, 6)\n"
     ]
    }
   ],
   "source": [
    "print(X_train.shape); print(X_test.shape)"
   ]
  },
  {
   "cell_type": "markdown",
   "metadata": {},
   "source": [
    "## Building and Training Models"
   ]
  },
  {
   "cell_type": "markdown",
   "metadata": {},
   "source": [
    "The first model is the shallow model with only input and output layers."
   ]
  },
  {
   "cell_type": "code",
   "execution_count": 47,
   "metadata": {},
   "outputs": [
    {
     "name": "stdout",
     "output_type": "stream",
     "text": [
      "Model: \"sequential_2\"\n",
      "_________________________________________________________________\n",
      " Layer (type)                Output Shape              Param #   \n",
      "=================================================================\n",
      " dense_7 (Dense)             (None, 32)                224       \n",
      "                                                                 \n",
      " dense_8 (Dense)             (None, 1)                 33        \n",
      "                                                                 \n",
      "=================================================================\n",
      "Total params: 257\n",
      "Trainable params: 257\n",
      "Non-trainable params: 0\n",
      "_________________________________________________________________\n"
     ]
    }
   ],
   "source": [
    "model_sh = tf.keras.Sequential()\n",
    "model_sh.add(tf.keras.layers.Dense(32, input_shape = (X_train.shape[1],), activation = \"elu\"))\n",
    "model_sh.add(tf.keras.layers.Dense(1, activation = 'sigmoid'))\n",
    "model_sh.summary()"
   ]
  },
  {
   "cell_type": "markdown",
   "metadata": {},
   "source": [
    "The second model is a deep model with 3 hidden layers."
   ]
  },
  {
   "cell_type": "code",
   "execution_count": 48,
   "metadata": {},
   "outputs": [
    {
     "name": "stdout",
     "output_type": "stream",
     "text": [
      "Model: \"sequential_3\"\n",
      "_________________________________________________________________\n",
      " Layer (type)                Output Shape              Param #   \n",
      "=================================================================\n",
      " dense_9 (Dense)             (None, 32)                224       \n",
      "                                                                 \n",
      " dense_10 (Dense)            (None, 16)                528       \n",
      "                                                                 \n",
      " dense_11 (Dense)            (None, 8)                 136       \n",
      "                                                                 \n",
      " dense_12 (Dense)            (None, 4)                 36        \n",
      "                                                                 \n",
      " dense_13 (Dense)            (None, 1)                 5         \n",
      "                                                                 \n",
      "=================================================================\n",
      "Total params: 929\n",
      "Trainable params: 929\n",
      "Non-trainable params: 0\n",
      "_________________________________________________________________\n"
     ]
    }
   ],
   "source": [
    "model_dp = tf.keras.Sequential()\n",
    "model_dp.add(tf.keras.layers.Dense(32, input_shape=(X_train.shape[1],), activation='elu'))\n",
    "model_dp.add(tf.keras.layers.Dense(16, activation='elu'))\n",
    "model_dp.add(tf.keras.layers.Dense(8, activation='elu'))\n",
    "model_dp.add(tf.keras.layers.Dense(4, activation='elu'))\n",
    "model_dp.add(tf.keras.layers.Dense(1, activation = 'sigmoid'))\n",
    "model_dp.summary()"
   ]
  },
  {
   "cell_type": "markdown",
   "metadata": {},
   "source": [
    "Using optimiser to enhance performance and minimise errors."
   ]
  },
  {
   "cell_type": "code",
   "execution_count": 49,
   "metadata": {},
   "outputs": [],
   "source": [
    "optimizer = tf.keras.optimizers.legacy.Adam(learning_rate = 0.01)"
   ]
  },
  {
   "cell_type": "code",
   "execution_count": 50,
   "metadata": {},
   "outputs": [
    {
     "name": "stdout",
     "output_type": "stream",
     "text": [
      "8/8 [==============================] - 0s 873us/step - loss: 0.6067 - accuracy: 0.6588\n",
      "[0.6067442893981934, 0.658823549747467]\n",
      "2/2 [==============================] - 0s 2ms/step - loss: 0.6250 - accuracy: 0.6875\n",
      "[0.625015139579773, 0.6875]\n"
     ]
    }
   ],
   "source": [
    "model_sh.compile(loss = \"binary_crossentropy\", metrics = [\"accuracy\"], optimizer = optimizer)\n",
    "model_sh.fit(X_train, y_train, epochs = 15, verbose = 0)\n",
    "print(model_sh.evaluate(X_train, y_train))\n",
    "print(model_sh.evaluate(X_test, y_test))"
   ]
  },
  {
   "cell_type": "code",
   "execution_count": 51,
   "metadata": {},
   "outputs": [
    {
     "name": "stdout",
     "output_type": "stream",
     "text": [
      "8/8 [==============================] - 0s 1ms/step - loss: 0.6042 - accuracy: 0.6667\n",
      "[0.6041803956031799, 0.6666666865348816]\n",
      "2/2 [==============================] - 0s 2ms/step - loss: 0.6213 - accuracy: 0.6719\n",
      "[0.6213473081588745, 0.671875]\n"
     ]
    }
   ],
   "source": [
    "model_dp.compile(loss = \"binary_crossentropy\", metrics = [\"accuracy\"], optimizer = optimizer)\n",
    "model_dp.fit(X_train, y_train, epochs = 15, verbose = 0)\n",
    "print(model_dp.evaluate(X_train, y_train))\n",
    "print(model_dp.evaluate(X_test, y_test))"
   ]
  },
  {
   "cell_type": "code",
   "execution_count": null,
   "metadata": {},
   "outputs": [
    {
     "name": "stdout",
     "output_type": "stream",
     "text": [
      "8/8 [==============================] - 0s 861us/step\n",
      "2/2 [==============================] - 0s 988us/step\n",
      "0.13763644989374035\n"
     ]
    }
   ],
   "source": [
    "train_pred_sh = model_sh.predict(X_train)\n",
    "test_pred_sh = model_sh.predict(X_test)"
   ]
  },
  {
   "cell_type": "code",
   "execution_count": null,
   "metadata": {},
   "outputs": [
    {
     "name": "stdout",
     "output_type": "stream",
     "text": [
      "8/8 [==============================] - 0s 1ms/step\n",
      "2/2 [==============================] - 0s 2ms/step\n"
     ]
    }
   ],
   "source": [
    "train_pred_dp = model_dp.predict(X_train)\n",
    "test_pred_dp = model_dp.predict(X_test)"
   ]
  },
  {
   "cell_type": "markdown",
   "metadata": {},
   "source": [
    "## Results"
   ]
  },
  {
   "cell_type": "code",
   "execution_count": 54,
   "metadata": {},
   "outputs": [
    {
     "name": "stdout",
     "output_type": "stream",
     "text": [
      "int64\n",
      "int64\n"
     ]
    }
   ],
   "source": [
    "test_pred_sh = np.round(test_pred_sh, 0)\n",
    "test_pred_sh = test_pred_sh.astype(\"int64\")\n",
    "print(test_pred_sh.dtype)\n",
    "print(y_test.dtype)\n"
   ]
  },
  {
   "cell_type": "code",
   "execution_count": 55,
   "metadata": {},
   "outputs": [
    {
     "data": {
      "image/png": "[encoded data removed]",
      "text/plain": [
       "<Figure size 432x288 with 2 Axes>"
      ]
     },
     "metadata": {
      "needs_background": "light"
     },
     "output_type": "display_data"
    }
   ],
   "source": [
    "conf_matrix_sh = confusion_matrix(y_test, test_pred_sh)\n",
    "cm_plot_sh = ConfusionMatrixDisplay(confusion_matrix = conf_matrix_sh, display_labels = [\"No gain\", \"Gain\"])\n",
    "cm_plot_sh.plot(cmap=\"Oranges\")\n",
    "plt.title(\"Confusion matrix for shallow model\")\n",
    "plt.show()"
   ]
  },
  {
   "cell_type": "code",
   "execution_count": 56,
   "metadata": {},
   "outputs": [
    {
     "name": "stdout",
     "output_type": "stream",
     "text": [
      "int64\n",
      "int64\n"
     ]
    }
   ],
   "source": [
    "test_pred_dp = np.round(test_pred_dp, 0)\n",
    "test_pred_dp = test_pred_dp.astype(\"int64\")\n",
    "print(test_pred_dp.dtype)\n",
    "print(y_test.dtype)\n"
   ]
  },
  {
   "cell_type": "code",
   "execution_count": 57,
   "metadata": {},
   "outputs": [
    {
     "data": {
      "image/png": "[encoded data removed]",
      "text/plain": [
       "<Figure size 432x288 with 2 Axes>"
      ]
     },
     "metadata": {
      "needs_background": "light"
     },
     "output_type": "display_data"
    }
   ],
   "source": [
    "conf_matrix_dp = confusion_matrix(y_test, test_pred_dp)\n",
    "cm_plot_dp = ConfusionMatrixDisplay(confusion_matrix = conf_matrix_dp, display_labels = [\"No gain\", \"Gain\"])\n",
    "cm_plot_dp.plot(cmap=\"Oranges\")\n",
    "plt.title(\"Confusion matrix for deep model\")\n",
    "plt.show()"
   ]
  },
  {
   "cell_type": "markdown",
   "metadata": {},
   "source": [
    "Confusion matrix for both models showed that they performed similarly. One of the possible reasons for that could be small sample size of the dataset. It could be possible to improve the results of the deep model using hyperparameters tuning. \n",
    "\n",
    "Around two thirds of the predictions for both models were correct. Considering the nature of the question, investors are more interested to see which IPOs would be listed at a profit. For 32 IPOs that were listed at profit, only half were classified as \"Gain\" by the deep model, while shallow model classified only 44% incorrectly."
   ]
  },
  {
   "cell_type": "code",
   "execution_count": 58,
   "metadata": {},
   "outputs": [
    {
     "name": "stdout",
     "output_type": "stream",
     "text": [
      "0.6875\n",
      "0.671875\n"
     ]
    }
   ],
   "source": [
    "print(accuracy_score(y_test, test_pred_sh))\n",
    "print(accuracy_score(y_test, test_pred_dp))"
   ]
  },
  {
   "cell_type": "markdown",
   "metadata": {},
   "source": [
    "Not surprisingly, accuracy scores are also similar for both models being more than 67%, with shallow model being slightly more accurate."
   ]
  },
  {
   "cell_type": "code",
   "execution_count": 60,
   "metadata": {},
   "outputs": [
    {
     "name": "stdout",
     "output_type": "stream",
     "text": [
      "0.75\n",
      "0.7619047619047619\n",
      "0.5625\n",
      "0.5\n"
     ]
    }
   ],
   "source": [
    "print(precision_score(y_test, test_pred_sh))\n",
    "print(precision_score(y_test, test_pred_dp))\n",
    "print(recall_score(y_test, test_pred_sh))\n",
    "print(recall_score(y_test, test_pred_dp))"
   ]
  },
  {
   "cell_type": "markdown",
   "metadata": {},
   "source": [
    "Two other metrics that can be used to access the model are precision and recall. \n",
    "\n",
    "Precision measures how often positive predictions of the model are correct. Thus, in this case it shows how often when the model predicted gains it was incorrect. For both models the precision is at least 75%, with deep model having a slightly higher score. \n",
    "\n",
    "Recall measures how often the model identifies positive instances correctly, compared to all the positive instances in the sample. For both models it is around 50%, with shallow model performing a bit better. "
   ]
  },
  {
   "cell_type": "markdown",
   "metadata": {},
   "source": [
    "## Conclusion"
   ]
  },
  {
   "cell_type": "markdown",
   "metadata": {},
   "source": [
    "Overall, both models showed similar results with accuracy scores over 67%, precision over 75% and recall over 50%. Surprisingly, shallow model showed slightly better results in two out of three metrics used. One of the possible reasons for that could be the fact that the sample size is relatively small. Increasing sample size or introducing hyperparameters tuning might result in improvement for the deep model.\n",
    "\n",
    "In order to fully access the performance of the models, we need to also consider the nature of the problem. As investors, we are more interested in gains, thus the classes in the classification might not have the same weight for us. When looking at recall scores, it can be concluded that around 50% of gains were missed, as half of predictions for IPOs which were issued at a profit, were wrongly classified as \"No gains\". On the other hand, just around 25% of IPOs that had no gains were wrongly classified as \"Gains\". Shallow model showed a better recall score, while deep model showed a better precision value."
   ]
  },
  {
   "cell_type": "markdown",
   "metadata": {},
   "source": []
  }
 ],
 "metadata": {
  "kernelspec": {
   "display_name": "base",
   "language": "python",
   "name": "python3"
  },
  "language_info": {
   "codemirror_mode": {
    "name": "ipython",
    "version": 3
   },
   "file_extension": ".py",
   "mimetype": "text/x-python",
   "name": "python",
   "nbconvert_exporter": "python",
   "pygments_lexer": "ipython3",
   "version": "3.8.8"
  }
 },
 "nbformat": 4,
 "nbformat_minor": 4
}
